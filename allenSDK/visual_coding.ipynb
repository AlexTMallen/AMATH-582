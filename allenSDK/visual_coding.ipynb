{
 "cells": [
  {
   "cell_type": "code",
   "execution_count": 106,
   "metadata": {},
   "outputs": [],
   "source": [
    "import os\n",
    "import shutil\n",
    "\n",
    "import numpy as np\n",
    "import pandas as pd\n",
    "import matplotlib.pyplot as plt\n",
    "from mpl_toolkits.mplot3d import Axes3D\n",
    "\n",
    "\n",
    "from allensdk.brain_observatory.ecephys.ecephys_project_cache import EcephysProjectCache"
   ]
  },
  {
   "cell_type": "code",
   "execution_count": 3,
   "metadata": {},
   "outputs": [],
   "source": [
    "data_directory = './ecephys_cache' # must be updated to a valid directory in your filesystem\n",
    "\n",
    "manifest_path = os.path.join(data_directory, \"manifest.json\")"
   ]
  },
  {
   "cell_type": "code",
   "execution_count": 4,
   "metadata": {},
   "outputs": [],
   "source": [
    "cache = EcephysProjectCache.from_warehouse(manifest=manifest_path)"
   ]
  },
  {
   "cell_type": "code",
   "execution_count": 5,
   "metadata": {},
   "outputs": [
    {
     "name": "stdout",
     "output_type": "stream",
     "text": [
      "Total number of sessions: 58\n"
     ]
    },
    {
     "data": {
      "text/html": [
       "<div>\n",
       "<style scoped>\n",
       "    .dataframe tbody tr th:only-of-type {\n",
       "        vertical-align: middle;\n",
       "    }\n",
       "\n",
       "    .dataframe tbody tr th {\n",
       "        vertical-align: top;\n",
       "    }\n",
       "\n",
       "    .dataframe thead th {\n",
       "        text-align: right;\n",
       "    }\n",
       "</style>\n",
       "<table border=\"1\" class=\"dataframe\">\n",
       "  <thead>\n",
       "    <tr style=\"text-align: right;\">\n",
       "      <th></th>\n",
       "      <th>published_at</th>\n",
       "      <th>specimen_id</th>\n",
       "      <th>session_type</th>\n",
       "      <th>age_in_days</th>\n",
       "      <th>sex</th>\n",
       "      <th>full_genotype</th>\n",
       "      <th>unit_count</th>\n",
       "      <th>channel_count</th>\n",
       "      <th>probe_count</th>\n",
       "      <th>ecephys_structure_acronyms</th>\n",
       "    </tr>\n",
       "    <tr>\n",
       "      <th>id</th>\n",
       "      <th></th>\n",
       "      <th></th>\n",
       "      <th></th>\n",
       "      <th></th>\n",
       "      <th></th>\n",
       "      <th></th>\n",
       "      <th></th>\n",
       "      <th></th>\n",
       "      <th></th>\n",
       "      <th></th>\n",
       "    </tr>\n",
       "  </thead>\n",
       "  <tbody>\n",
       "    <tr>\n",
       "      <th>715093703</th>\n",
       "      <td>2019-10-03T00:00:00Z</td>\n",
       "      <td>699733581</td>\n",
       "      <td>brain_observatory_1.1</td>\n",
       "      <td>118.0</td>\n",
       "      <td>M</td>\n",
       "      <td>Sst-IRES-Cre/wt;Ai32(RCL-ChR2(H134R)_EYFP)/wt</td>\n",
       "      <td>884</td>\n",
       "      <td>2219</td>\n",
       "      <td>6</td>\n",
       "      <td>[CA1, VISrl, nan, PO, LP, LGd, CA3, DG, VISl, ...</td>\n",
       "    </tr>\n",
       "    <tr>\n",
       "      <th>719161530</th>\n",
       "      <td>2019-10-03T00:00:00Z</td>\n",
       "      <td>703279284</td>\n",
       "      <td>brain_observatory_1.1</td>\n",
       "      <td>122.0</td>\n",
       "      <td>M</td>\n",
       "      <td>Sst-IRES-Cre/wt;Ai32(RCL-ChR2(H134R)_EYFP)/wt</td>\n",
       "      <td>755</td>\n",
       "      <td>2214</td>\n",
       "      <td>6</td>\n",
       "      <td>[TH, Eth, APN, POL, LP, DG, CA1, VISpm, nan, N...</td>\n",
       "    </tr>\n",
       "    <tr>\n",
       "      <th>721123822</th>\n",
       "      <td>2019-10-03T00:00:00Z</td>\n",
       "      <td>707296982</td>\n",
       "      <td>brain_observatory_1.1</td>\n",
       "      <td>125.0</td>\n",
       "      <td>M</td>\n",
       "      <td>Pvalb-IRES-Cre/wt;Ai32(RCL-ChR2(H134R)_EYFP)/wt</td>\n",
       "      <td>444</td>\n",
       "      <td>2229</td>\n",
       "      <td>6</td>\n",
       "      <td>[MB, SCig, PPT, NOT, DG, CA1, VISam, nan, LP, ...</td>\n",
       "    </tr>\n",
       "    <tr>\n",
       "      <th>732592105</th>\n",
       "      <td>2019-10-03T00:00:00Z</td>\n",
       "      <td>717038288</td>\n",
       "      <td>brain_observatory_1.1</td>\n",
       "      <td>100.0</td>\n",
       "      <td>M</td>\n",
       "      <td>wt/wt</td>\n",
       "      <td>824</td>\n",
       "      <td>1847</td>\n",
       "      <td>5</td>\n",
       "      <td>[grey, VISpm, nan, VISp, VISl, VISal, VISrl]</td>\n",
       "    </tr>\n",
       "    <tr>\n",
       "      <th>737581020</th>\n",
       "      <td>2019-10-03T00:00:00Z</td>\n",
       "      <td>718643567</td>\n",
       "      <td>brain_observatory_1.1</td>\n",
       "      <td>108.0</td>\n",
       "      <td>M</td>\n",
       "      <td>wt/wt</td>\n",
       "      <td>568</td>\n",
       "      <td>2218</td>\n",
       "      <td>6</td>\n",
       "      <td>[grey, VISmma, nan, VISpm, VISp, VISl, VISrl]</td>\n",
       "    </tr>\n",
       "  </tbody>\n",
       "</table>\n",
       "</div>"
      ],
      "text/plain": [
       "                   published_at  specimen_id           session_type  \\\n",
       "id                                                                    \n",
       "715093703  2019-10-03T00:00:00Z    699733581  brain_observatory_1.1   \n",
       "719161530  2019-10-03T00:00:00Z    703279284  brain_observatory_1.1   \n",
       "721123822  2019-10-03T00:00:00Z    707296982  brain_observatory_1.1   \n",
       "732592105  2019-10-03T00:00:00Z    717038288  brain_observatory_1.1   \n",
       "737581020  2019-10-03T00:00:00Z    718643567  brain_observatory_1.1   \n",
       "\n",
       "           age_in_days sex                                    full_genotype  \\\n",
       "id                                                                            \n",
       "715093703        118.0   M    Sst-IRES-Cre/wt;Ai32(RCL-ChR2(H134R)_EYFP)/wt   \n",
       "719161530        122.0   M    Sst-IRES-Cre/wt;Ai32(RCL-ChR2(H134R)_EYFP)/wt   \n",
       "721123822        125.0   M  Pvalb-IRES-Cre/wt;Ai32(RCL-ChR2(H134R)_EYFP)/wt   \n",
       "732592105        100.0   M                                            wt/wt   \n",
       "737581020        108.0   M                                            wt/wt   \n",
       "\n",
       "           unit_count  channel_count  probe_count  \\\n",
       "id                                                  \n",
       "715093703         884           2219            6   \n",
       "719161530         755           2214            6   \n",
       "721123822         444           2229            6   \n",
       "732592105         824           1847            5   \n",
       "737581020         568           2218            6   \n",
       "\n",
       "                                  ecephys_structure_acronyms  \n",
       "id                                                            \n",
       "715093703  [CA1, VISrl, nan, PO, LP, LGd, CA3, DG, VISl, ...  \n",
       "719161530  [TH, Eth, APN, POL, LP, DG, CA1, VISpm, nan, N...  \n",
       "721123822  [MB, SCig, PPT, NOT, DG, CA1, VISam, nan, LP, ...  \n",
       "732592105       [grey, VISpm, nan, VISp, VISl, VISal, VISrl]  \n",
       "737581020      [grey, VISmma, nan, VISpm, VISp, VISl, VISrl]  "
      ]
     },
     "execution_count": 5,
     "metadata": {},
     "output_type": "execute_result"
    }
   ],
   "source": [
    "sessions = cache.get_session_table()\n",
    "\n",
    "print('Total number of sessions: ' + str(len(sessions)))\n",
    "\n",
    "\n",
    "sessions.head()"
   ]
  },
  {
   "cell_type": "code",
   "execution_count": 6,
   "metadata": {},
   "outputs": [
    {
     "name": "stdout",
     "output_type": "stream",
     "text": [
      "6\n"
     ]
    },
    {
     "data": {
      "text/html": [
       "<div>\n",
       "<style scoped>\n",
       "    .dataframe tbody tr th:only-of-type {\n",
       "        vertical-align: middle;\n",
       "    }\n",
       "\n",
       "    .dataframe tbody tr th {\n",
       "        vertical-align: top;\n",
       "    }\n",
       "\n",
       "    .dataframe thead th {\n",
       "        text-align: right;\n",
       "    }\n",
       "</style>\n",
       "<table border=\"1\" class=\"dataframe\">\n",
       "  <thead>\n",
       "    <tr style=\"text-align: right;\">\n",
       "      <th></th>\n",
       "      <th>published_at</th>\n",
       "      <th>specimen_id</th>\n",
       "      <th>session_type</th>\n",
       "      <th>age_in_days</th>\n",
       "      <th>sex</th>\n",
       "      <th>full_genotype</th>\n",
       "      <th>unit_count</th>\n",
       "      <th>channel_count</th>\n",
       "      <th>probe_count</th>\n",
       "      <th>ecephys_structure_acronyms</th>\n",
       "    </tr>\n",
       "    <tr>\n",
       "      <th>id</th>\n",
       "      <th></th>\n",
       "      <th></th>\n",
       "      <th></th>\n",
       "      <th></th>\n",
       "      <th></th>\n",
       "      <th></th>\n",
       "      <th></th>\n",
       "      <th></th>\n",
       "      <th></th>\n",
       "      <th></th>\n",
       "    </tr>\n",
       "  </thead>\n",
       "  <tbody>\n",
       "    <tr>\n",
       "      <th>715093703</th>\n",
       "      <td>2019-10-03T00:00:00Z</td>\n",
       "      <td>699733581</td>\n",
       "      <td>brain_observatory_1.1</td>\n",
       "      <td>118.0</td>\n",
       "      <td>M</td>\n",
       "      <td>Sst-IRES-Cre/wt;Ai32(RCL-ChR2(H134R)_EYFP)/wt</td>\n",
       "      <td>884</td>\n",
       "      <td>2219</td>\n",
       "      <td>6</td>\n",
       "      <td>[CA1, VISrl, nan, PO, LP, LGd, CA3, DG, VISl, ...</td>\n",
       "    </tr>\n",
       "    <tr>\n",
       "      <th>719161530</th>\n",
       "      <td>2019-10-03T00:00:00Z</td>\n",
       "      <td>703279284</td>\n",
       "      <td>brain_observatory_1.1</td>\n",
       "      <td>122.0</td>\n",
       "      <td>M</td>\n",
       "      <td>Sst-IRES-Cre/wt;Ai32(RCL-ChR2(H134R)_EYFP)/wt</td>\n",
       "      <td>755</td>\n",
       "      <td>2214</td>\n",
       "      <td>6</td>\n",
       "      <td>[TH, Eth, APN, POL, LP, DG, CA1, VISpm, nan, N...</td>\n",
       "    </tr>\n",
       "    <tr>\n",
       "      <th>756029989</th>\n",
       "      <td>2019-10-03T00:00:00Z</td>\n",
       "      <td>734865738</td>\n",
       "      <td>brain_observatory_1.1</td>\n",
       "      <td>96.0</td>\n",
       "      <td>M</td>\n",
       "      <td>Sst-IRES-Cre/wt;Ai32(RCL-ChR2(H134R)_EYFP)/wt</td>\n",
       "      <td>684</td>\n",
       "      <td>2214</td>\n",
       "      <td>6</td>\n",
       "      <td>[TH, DG, CA3, CA1, VISl, nan, PO, Eth, LP, VIS...</td>\n",
       "    </tr>\n",
       "    <tr>\n",
       "      <th>758798717</th>\n",
       "      <td>2019-10-03T00:00:00Z</td>\n",
       "      <td>735109609</td>\n",
       "      <td>brain_observatory_1.1</td>\n",
       "      <td>102.0</td>\n",
       "      <td>M</td>\n",
       "      <td>Sst-IRES-Cre/wt;Ai32(RCL-ChR2(H134R)_EYFP)/wt</td>\n",
       "      <td>593</td>\n",
       "      <td>1486</td>\n",
       "      <td>4</td>\n",
       "      <td>[MGv, MGd, TH, DG, CA1, VISal, nan, SGN, LP, S...</td>\n",
       "    </tr>\n",
       "    <tr>\n",
       "      <th>760693773</th>\n",
       "      <td>2019-10-03T00:00:00Z</td>\n",
       "      <td>738651054</td>\n",
       "      <td>brain_observatory_1.1</td>\n",
       "      <td>110.0</td>\n",
       "      <td>F</td>\n",
       "      <td>Sst-IRES-Cre/wt;Ai32(RCL-ChR2(H134R)_EYFP)/wt</td>\n",
       "      <td>826</td>\n",
       "      <td>2233</td>\n",
       "      <td>6</td>\n",
       "      <td>[grey, VISrl, nan, VISal, VISp, VISpm, VISam]</td>\n",
       "    </tr>\n",
       "  </tbody>\n",
       "</table>\n",
       "</div>"
      ],
      "text/plain": [
       "                   published_at  specimen_id           session_type  \\\n",
       "id                                                                    \n",
       "715093703  2019-10-03T00:00:00Z    699733581  brain_observatory_1.1   \n",
       "719161530  2019-10-03T00:00:00Z    703279284  brain_observatory_1.1   \n",
       "756029989  2019-10-03T00:00:00Z    734865738  brain_observatory_1.1   \n",
       "758798717  2019-10-03T00:00:00Z    735109609  brain_observatory_1.1   \n",
       "760693773  2019-10-03T00:00:00Z    738651054  brain_observatory_1.1   \n",
       "\n",
       "           age_in_days sex                                  full_genotype  \\\n",
       "id                                                                          \n",
       "715093703        118.0   M  Sst-IRES-Cre/wt;Ai32(RCL-ChR2(H134R)_EYFP)/wt   \n",
       "719161530        122.0   M  Sst-IRES-Cre/wt;Ai32(RCL-ChR2(H134R)_EYFP)/wt   \n",
       "756029989         96.0   M  Sst-IRES-Cre/wt;Ai32(RCL-ChR2(H134R)_EYFP)/wt   \n",
       "758798717        102.0   M  Sst-IRES-Cre/wt;Ai32(RCL-ChR2(H134R)_EYFP)/wt   \n",
       "760693773        110.0   F  Sst-IRES-Cre/wt;Ai32(RCL-ChR2(H134R)_EYFP)/wt   \n",
       "\n",
       "           unit_count  channel_count  probe_count  \\\n",
       "id                                                  \n",
       "715093703         884           2219            6   \n",
       "719161530         755           2214            6   \n",
       "756029989         684           2214            6   \n",
       "758798717         593           1486            4   \n",
       "760693773         826           2233            6   \n",
       "\n",
       "                                  ecephys_structure_acronyms  \n",
       "id                                                            \n",
       "715093703  [CA1, VISrl, nan, PO, LP, LGd, CA3, DG, VISl, ...  \n",
       "719161530  [TH, Eth, APN, POL, LP, DG, CA1, VISpm, nan, N...  \n",
       "756029989  [TH, DG, CA3, CA1, VISl, nan, PO, Eth, LP, VIS...  \n",
       "758798717  [MGv, MGd, TH, DG, CA1, VISal, nan, SGN, LP, S...  \n",
       "760693773      [grey, VISrl, nan, VISal, VISp, VISpm, VISam]  "
      ]
     },
     "execution_count": 6,
     "metadata": {},
     "output_type": "execute_result"
    }
   ],
   "source": [
    "filtered_sessions = sessions[(sessions.full_genotype.str.find('Sst') > -1) & \\\n",
    "                             (sessions.session_type == 'brain_observatory_1.1') & \\\n",
    "                             (['VISp' in acronyms for acronyms in \n",
    "                               sessions.ecephys_structure_acronyms])]\n",
    "\n",
    "print(len(filtered_sessions))\n",
    "filtered_sessions.head()"
   ]
  },
  {
   "cell_type": "code",
   "execution_count": 10,
   "metadata": {},
   "outputs": [],
   "source": [
    "session_id = 715093703  # based on the above filter\n",
    "session = cache.get_session_data(session_id)"
   ]
  },
  {
   "cell_type": "code",
   "execution_count": 230,
   "metadata": {},
   "outputs": [
    {
     "data": {
      "text/html": [
       "<div>\n",
       "<style scoped>\n",
       "    .dataframe tbody tr th:only-of-type {\n",
       "        vertical-align: middle;\n",
       "    }\n",
       "\n",
       "    .dataframe tbody tr th {\n",
       "        vertical-align: top;\n",
       "    }\n",
       "\n",
       "    .dataframe thead th {\n",
       "        text-align: right;\n",
       "    }\n",
       "</style>\n",
       "<table border=\"1\" class=\"dataframe\">\n",
       "  <thead>\n",
       "    <tr style=\"text-align: right;\">\n",
       "      <th></th>\n",
       "      <th>waveform_PT_ratio</th>\n",
       "      <th>waveform_amplitude</th>\n",
       "      <th>amplitude_cutoff</th>\n",
       "      <th>cumulative_drift</th>\n",
       "      <th>d_prime</th>\n",
       "      <th>waveform_duration</th>\n",
       "      <th>ecephys_channel_id</th>\n",
       "      <th>firing_rate</th>\n",
       "      <th>waveform_halfwidth</th>\n",
       "      <th>isi_violations</th>\n",
       "      <th>...</th>\n",
       "      <th>phase</th>\n",
       "      <th>sampling_rate</th>\n",
       "      <th>has_lfp_data</th>\n",
       "      <th>date_of_acquisition</th>\n",
       "      <th>published_at</th>\n",
       "      <th>specimen_id</th>\n",
       "      <th>session_type</th>\n",
       "      <th>age_in_days</th>\n",
       "      <th>sex</th>\n",
       "      <th>genotype</th>\n",
       "    </tr>\n",
       "    <tr>\n",
       "      <th>id</th>\n",
       "      <th></th>\n",
       "      <th></th>\n",
       "      <th></th>\n",
       "      <th></th>\n",
       "      <th></th>\n",
       "      <th></th>\n",
       "      <th></th>\n",
       "      <th></th>\n",
       "      <th></th>\n",
       "      <th></th>\n",
       "      <th></th>\n",
       "      <th></th>\n",
       "      <th></th>\n",
       "      <th></th>\n",
       "      <th></th>\n",
       "      <th></th>\n",
       "      <th></th>\n",
       "      <th></th>\n",
       "      <th></th>\n",
       "      <th></th>\n",
       "      <th></th>\n",
       "    </tr>\n",
       "  </thead>\n",
       "  <tbody>\n",
       "    <tr>\n",
       "      <th>915956282</th>\n",
       "      <td>0.611816</td>\n",
       "      <td>164.878740</td>\n",
       "      <td>0.072728</td>\n",
       "      <td>309.71</td>\n",
       "      <td>3.910873</td>\n",
       "      <td>0.535678</td>\n",
       "      <td>850229419</td>\n",
       "      <td>6.519432</td>\n",
       "      <td>0.164824</td>\n",
       "      <td>0.104910</td>\n",
       "      <td>...</td>\n",
       "      <td>3a</td>\n",
       "      <td>29999.915391</td>\n",
       "      <td>True</td>\n",
       "      <td>2019-01-09T00:26:20Z</td>\n",
       "      <td>2019-10-03T00:00:00Z</td>\n",
       "      <td>717038288</td>\n",
       "      <td>brain_observatory_1.1</td>\n",
       "      <td>100.0</td>\n",
       "      <td>M</td>\n",
       "      <td>wt/wt</td>\n",
       "    </tr>\n",
       "    <tr>\n",
       "      <th>915956340</th>\n",
       "      <td>0.439372</td>\n",
       "      <td>247.254345</td>\n",
       "      <td>0.000881</td>\n",
       "      <td>160.24</td>\n",
       "      <td>5.519024</td>\n",
       "      <td>0.563149</td>\n",
       "      <td>850229419</td>\n",
       "      <td>9.660554</td>\n",
       "      <td>0.206030</td>\n",
       "      <td>0.006825</td>\n",
       "      <td>...</td>\n",
       "      <td>3a</td>\n",
       "      <td>29999.915391</td>\n",
       "      <td>True</td>\n",
       "      <td>2019-01-09T00:26:20Z</td>\n",
       "      <td>2019-10-03T00:00:00Z</td>\n",
       "      <td>717038288</td>\n",
       "      <td>brain_observatory_1.1</td>\n",
       "      <td>100.0</td>\n",
       "      <td>M</td>\n",
       "      <td>wt/wt</td>\n",
       "    </tr>\n",
       "    <tr>\n",
       "      <th>915956345</th>\n",
       "      <td>0.500520</td>\n",
       "      <td>251.275830</td>\n",
       "      <td>0.001703</td>\n",
       "      <td>129.36</td>\n",
       "      <td>3.559911</td>\n",
       "      <td>0.521943</td>\n",
       "      <td>850229419</td>\n",
       "      <td>12.698430</td>\n",
       "      <td>0.192295</td>\n",
       "      <td>0.044936</td>\n",
       "      <td>...</td>\n",
       "      <td>3a</td>\n",
       "      <td>29999.915391</td>\n",
       "      <td>True</td>\n",
       "      <td>2019-01-09T00:26:20Z</td>\n",
       "      <td>2019-10-03T00:00:00Z</td>\n",
       "      <td>717038288</td>\n",
       "      <td>brain_observatory_1.1</td>\n",
       "      <td>100.0</td>\n",
       "      <td>M</td>\n",
       "      <td>wt/wt</td>\n",
       "    </tr>\n",
       "    <tr>\n",
       "      <th>915956349</th>\n",
       "      <td>0.424620</td>\n",
       "      <td>177.115380</td>\n",
       "      <td>0.096378</td>\n",
       "      <td>169.29</td>\n",
       "      <td>2.973959</td>\n",
       "      <td>0.508208</td>\n",
       "      <td>850229419</td>\n",
       "      <td>16.192413</td>\n",
       "      <td>0.192295</td>\n",
       "      <td>0.120715</td>\n",
       "      <td>...</td>\n",
       "      <td>3a</td>\n",
       "      <td>29999.915391</td>\n",
       "      <td>True</td>\n",
       "      <td>2019-01-09T00:26:20Z</td>\n",
       "      <td>2019-10-03T00:00:00Z</td>\n",
       "      <td>717038288</td>\n",
       "      <td>brain_observatory_1.1</td>\n",
       "      <td>100.0</td>\n",
       "      <td>M</td>\n",
       "      <td>wt/wt</td>\n",
       "    </tr>\n",
       "    <tr>\n",
       "      <th>915956356</th>\n",
       "      <td>0.512847</td>\n",
       "      <td>214.954545</td>\n",
       "      <td>0.054706</td>\n",
       "      <td>263.01</td>\n",
       "      <td>2.936851</td>\n",
       "      <td>0.549414</td>\n",
       "      <td>850229419</td>\n",
       "      <td>2.193113</td>\n",
       "      <td>0.233501</td>\n",
       "      <td>0.430427</td>\n",
       "      <td>...</td>\n",
       "      <td>3a</td>\n",
       "      <td>29999.915391</td>\n",
       "      <td>True</td>\n",
       "      <td>2019-01-09T00:26:20Z</td>\n",
       "      <td>2019-10-03T00:00:00Z</td>\n",
       "      <td>717038288</td>\n",
       "      <td>brain_observatory_1.1</td>\n",
       "      <td>100.0</td>\n",
       "      <td>M</td>\n",
       "      <td>wt/wt</td>\n",
       "    </tr>\n",
       "    <tr>\n",
       "      <th>...</th>\n",
       "      <td>...</td>\n",
       "      <td>...</td>\n",
       "      <td>...</td>\n",
       "      <td>...</td>\n",
       "      <td>...</td>\n",
       "      <td>...</td>\n",
       "      <td>...</td>\n",
       "      <td>...</td>\n",
       "      <td>...</td>\n",
       "      <td>...</td>\n",
       "      <td>...</td>\n",
       "      <td>...</td>\n",
       "      <td>...</td>\n",
       "      <td>...</td>\n",
       "      <td>...</td>\n",
       "      <td>...</td>\n",
       "      <td>...</td>\n",
       "      <td>...</td>\n",
       "      <td>...</td>\n",
       "      <td>...</td>\n",
       "      <td>...</td>\n",
       "    </tr>\n",
       "    <tr>\n",
       "      <th>951911942</th>\n",
       "      <td>0.368040</td>\n",
       "      <td>189.249060</td>\n",
       "      <td>0.001083</td>\n",
       "      <td>122.82</td>\n",
       "      <td>5.362617</td>\n",
       "      <td>0.631826</td>\n",
       "      <td>850103120</td>\n",
       "      <td>0.984659</td>\n",
       "      <td>0.192295</td>\n",
       "      <td>0.080230</td>\n",
       "      <td>...</td>\n",
       "      <td>3a</td>\n",
       "      <td>29999.958001</td>\n",
       "      <td>True</td>\n",
       "      <td>2018-10-31T17:39:23Z</td>\n",
       "      <td>2019-10-03T00:00:00Z</td>\n",
       "      <td>735109609</td>\n",
       "      <td>brain_observatory_1.1</td>\n",
       "      <td>102.0</td>\n",
       "      <td>M</td>\n",
       "      <td>Sst-IRES-Cre/wt;Ai32(RCL-ChR2(H134R)_EYFP)/wt</td>\n",
       "    </tr>\n",
       "    <tr>\n",
       "      <th>951911948</th>\n",
       "      <td>0.660350</td>\n",
       "      <td>80.706600</td>\n",
       "      <td>0.000416</td>\n",
       "      <td>108.17</td>\n",
       "      <td>3.507884</td>\n",
       "      <td>0.302178</td>\n",
       "      <td>850103122</td>\n",
       "      <td>10.327972</td>\n",
       "      <td>0.233501</td>\n",
       "      <td>0.000365</td>\n",
       "      <td>...</td>\n",
       "      <td>3a</td>\n",
       "      <td>29999.958001</td>\n",
       "      <td>True</td>\n",
       "      <td>2018-10-31T17:39:23Z</td>\n",
       "      <td>2019-10-03T00:00:00Z</td>\n",
       "      <td>735109609</td>\n",
       "      <td>brain_observatory_1.1</td>\n",
       "      <td>102.0</td>\n",
       "      <td>M</td>\n",
       "      <td>Sst-IRES-Cre/wt;Ai32(RCL-ChR2(H134R)_EYFP)/wt</td>\n",
       "    </tr>\n",
       "    <tr>\n",
       "      <th>951911955</th>\n",
       "      <td>0.357672</td>\n",
       "      <td>117.232440</td>\n",
       "      <td>0.023316</td>\n",
       "      <td>336.04</td>\n",
       "      <td>2.790057</td>\n",
       "      <td>0.714238</td>\n",
       "      <td>850103126</td>\n",
       "      <td>1.782535</td>\n",
       "      <td>0.192295</td>\n",
       "      <td>0.318256</td>\n",
       "      <td>...</td>\n",
       "      <td>3a</td>\n",
       "      <td>29999.958001</td>\n",
       "      <td>True</td>\n",
       "      <td>2018-10-31T17:39:23Z</td>\n",
       "      <td>2019-10-03T00:00:00Z</td>\n",
       "      <td>735109609</td>\n",
       "      <td>brain_observatory_1.1</td>\n",
       "      <td>102.0</td>\n",
       "      <td>M</td>\n",
       "      <td>Sst-IRES-Cre/wt;Ai32(RCL-ChR2(H134R)_EYFP)/wt</td>\n",
       "    </tr>\n",
       "    <tr>\n",
       "      <th>951911961</th>\n",
       "      <td>0.263957</td>\n",
       "      <td>82.125030</td>\n",
       "      <td>0.032783</td>\n",
       "      <td>361.88</td>\n",
       "      <td>2.954858</td>\n",
       "      <td>0.769179</td>\n",
       "      <td>850103134</td>\n",
       "      <td>3.211115</td>\n",
       "      <td>0.247236</td>\n",
       "      <td>0.497900</td>\n",
       "      <td>...</td>\n",
       "      <td>3a</td>\n",
       "      <td>29999.958001</td>\n",
       "      <td>True</td>\n",
       "      <td>2018-10-31T17:39:23Z</td>\n",
       "      <td>2019-10-03T00:00:00Z</td>\n",
       "      <td>735109609</td>\n",
       "      <td>brain_observatory_1.1</td>\n",
       "      <td>102.0</td>\n",
       "      <td>M</td>\n",
       "      <td>Sst-IRES-Cre/wt;Ai32(RCL-ChR2(H134R)_EYFP)/wt</td>\n",
       "    </tr>\n",
       "    <tr>\n",
       "      <th>951912003</th>\n",
       "      <td>0.317090</td>\n",
       "      <td>80.636010</td>\n",
       "      <td>0.011388</td>\n",
       "      <td>249.96</td>\n",
       "      <td>3.086359</td>\n",
       "      <td>0.782915</td>\n",
       "      <td>850103100</td>\n",
       "      <td>2.196052</td>\n",
       "      <td>0.219765</td>\n",
       "      <td>0.056454</td>\n",
       "      <td>...</td>\n",
       "      <td>3a</td>\n",
       "      <td>29999.958001</td>\n",
       "      <td>True</td>\n",
       "      <td>2018-10-31T17:39:23Z</td>\n",
       "      <td>2019-10-03T00:00:00Z</td>\n",
       "      <td>735109609</td>\n",
       "      <td>brain_observatory_1.1</td>\n",
       "      <td>102.0</td>\n",
       "      <td>M</td>\n",
       "      <td>Sst-IRES-Cre/wt;Ai32(RCL-ChR2(H134R)_EYFP)/wt</td>\n",
       "    </tr>\n",
       "  </tbody>\n",
       "</table>\n",
       "<p>40010 rows × 45 columns</p>\n",
       "</div>"
      ],
      "text/plain": [
       "           waveform_PT_ratio  waveform_amplitude  amplitude_cutoff  \\\n",
       "id                                                                   \n",
       "915956282           0.611816          164.878740          0.072728   \n",
       "915956340           0.439372          247.254345          0.000881   \n",
       "915956345           0.500520          251.275830          0.001703   \n",
       "915956349           0.424620          177.115380          0.096378   \n",
       "915956356           0.512847          214.954545          0.054706   \n",
       "...                      ...                 ...               ...   \n",
       "951911942           0.368040          189.249060          0.001083   \n",
       "951911948           0.660350           80.706600          0.000416   \n",
       "951911955           0.357672          117.232440          0.023316   \n",
       "951911961           0.263957           82.125030          0.032783   \n",
       "951912003           0.317090           80.636010          0.011388   \n",
       "\n",
       "           cumulative_drift   d_prime  waveform_duration  ecephys_channel_id  \\\n",
       "id                                                                             \n",
       "915956282            309.71  3.910873           0.535678           850229419   \n",
       "915956340            160.24  5.519024           0.563149           850229419   \n",
       "915956345            129.36  3.559911           0.521943           850229419   \n",
       "915956349            169.29  2.973959           0.508208           850229419   \n",
       "915956356            263.01  2.936851           0.549414           850229419   \n",
       "...                     ...       ...                ...                 ...   \n",
       "951911942            122.82  5.362617           0.631826           850103120   \n",
       "951911948            108.17  3.507884           0.302178           850103122   \n",
       "951911955            336.04  2.790057           0.714238           850103126   \n",
       "951911961            361.88  2.954858           0.769179           850103134   \n",
       "951912003            249.96  3.086359           0.782915           850103100   \n",
       "\n",
       "           firing_rate  waveform_halfwidth  isi_violations  ...  phase  \\\n",
       "id                                                          ...          \n",
       "915956282     6.519432            0.164824        0.104910  ...     3a   \n",
       "915956340     9.660554            0.206030        0.006825  ...     3a   \n",
       "915956345    12.698430            0.192295        0.044936  ...     3a   \n",
       "915956349    16.192413            0.192295        0.120715  ...     3a   \n",
       "915956356     2.193113            0.233501        0.430427  ...     3a   \n",
       "...                ...                 ...             ...  ...    ...   \n",
       "951911942     0.984659            0.192295        0.080230  ...     3a   \n",
       "951911948    10.327972            0.233501        0.000365  ...     3a   \n",
       "951911955     1.782535            0.192295        0.318256  ...     3a   \n",
       "951911961     3.211115            0.247236        0.497900  ...     3a   \n",
       "951912003     2.196052            0.219765        0.056454  ...     3a   \n",
       "\n",
       "           sampling_rate  has_lfp_data   date_of_acquisition  \\\n",
       "id                                                             \n",
       "915956282   29999.915391          True  2019-01-09T00:26:20Z   \n",
       "915956340   29999.915391          True  2019-01-09T00:26:20Z   \n",
       "915956345   29999.915391          True  2019-01-09T00:26:20Z   \n",
       "915956349   29999.915391          True  2019-01-09T00:26:20Z   \n",
       "915956356   29999.915391          True  2019-01-09T00:26:20Z   \n",
       "...                  ...           ...                   ...   \n",
       "951911942   29999.958001          True  2018-10-31T17:39:23Z   \n",
       "951911948   29999.958001          True  2018-10-31T17:39:23Z   \n",
       "951911955   29999.958001          True  2018-10-31T17:39:23Z   \n",
       "951911961   29999.958001          True  2018-10-31T17:39:23Z   \n",
       "951912003   29999.958001          True  2018-10-31T17:39:23Z   \n",
       "\n",
       "                   published_at  specimen_id           session_type  \\\n",
       "id                                                                    \n",
       "915956282  2019-10-03T00:00:00Z    717038288  brain_observatory_1.1   \n",
       "915956340  2019-10-03T00:00:00Z    717038288  brain_observatory_1.1   \n",
       "915956345  2019-10-03T00:00:00Z    717038288  brain_observatory_1.1   \n",
       "915956349  2019-10-03T00:00:00Z    717038288  brain_observatory_1.1   \n",
       "915956356  2019-10-03T00:00:00Z    717038288  brain_observatory_1.1   \n",
       "...                         ...          ...                    ...   \n",
       "951911942  2019-10-03T00:00:00Z    735109609  brain_observatory_1.1   \n",
       "951911948  2019-10-03T00:00:00Z    735109609  brain_observatory_1.1   \n",
       "951911955  2019-10-03T00:00:00Z    735109609  brain_observatory_1.1   \n",
       "951911961  2019-10-03T00:00:00Z    735109609  brain_observatory_1.1   \n",
       "951912003  2019-10-03T00:00:00Z    735109609  brain_observatory_1.1   \n",
       "\n",
       "           age_in_days  sex                                       genotype  \n",
       "id                                                                          \n",
       "915956282        100.0    M                                          wt/wt  \n",
       "915956340        100.0    M                                          wt/wt  \n",
       "915956345        100.0    M                                          wt/wt  \n",
       "915956349        100.0    M                                          wt/wt  \n",
       "915956356        100.0    M                                          wt/wt  \n",
       "...                ...  ...                                            ...  \n",
       "951911942        102.0    M  Sst-IRES-Cre/wt;Ai32(RCL-ChR2(H134R)_EYFP)/wt  \n",
       "951911948        102.0    M  Sst-IRES-Cre/wt;Ai32(RCL-ChR2(H134R)_EYFP)/wt  \n",
       "951911955        102.0    M  Sst-IRES-Cre/wt;Ai32(RCL-ChR2(H134R)_EYFP)/wt  \n",
       "951911961        102.0    M  Sst-IRES-Cre/wt;Ai32(RCL-ChR2(H134R)_EYFP)/wt  \n",
       "951912003        102.0    M  Sst-IRES-Cre/wt;Ai32(RCL-ChR2(H134R)_EYFP)/wt  \n",
       "\n",
       "[40010 rows x 45 columns]"
      ]
     },
     "execution_count": 230,
     "metadata": {},
     "output_type": "execute_result"
    }
   ],
   "source": [
    "units = cache.get_units?\n",
    "units"
   ]
  },
  {
   "cell_type": "markdown",
   "metadata": {},
   "source": [
    "# Natural Movie One"
   ]
  },
  {
   "cell_type": "code",
   "execution_count": 354,
   "metadata": {},
   "outputs": [
    {
     "data": {
      "text/html": [
       "<div>\n",
       "<style scoped>\n",
       "    .dataframe tbody tr th:only-of-type {\n",
       "        vertical-align: middle;\n",
       "    }\n",
       "\n",
       "    .dataframe tbody tr th {\n",
       "        vertical-align: top;\n",
       "    }\n",
       "\n",
       "    .dataframe thead th {\n",
       "        text-align: right;\n",
       "    }\n",
       "</style>\n",
       "<table border=\"1\" class=\"dataframe\">\n",
       "  <thead>\n",
       "    <tr style=\"text-align: right;\">\n",
       "      <th></th>\n",
       "      <th>start_time</th>\n",
       "      <th>stop_time</th>\n",
       "      <th>duration</th>\n",
       "      <th>stimulus_name</th>\n",
       "      <th>stimulus_block</th>\n",
       "    </tr>\n",
       "  </thead>\n",
       "  <tbody>\n",
       "    <tr>\n",
       "      <th>9</th>\n",
       "      <td>2835.861733</td>\n",
       "      <td>3136.112583</td>\n",
       "      <td>300.25085</td>\n",
       "      <td>natural_movie_one</td>\n",
       "      <td>4</td>\n",
       "    </tr>\n",
       "    <tr>\n",
       "      <th>25</th>\n",
       "      <td>7693.936523</td>\n",
       "      <td>7994.187283</td>\n",
       "      <td>300.25076</td>\n",
       "      <td>natural_movie_one</td>\n",
       "      <td>12</td>\n",
       "    </tr>\n",
       "  </tbody>\n",
       "</table>\n",
       "</div>"
      ],
      "text/plain": [
       "     start_time    stop_time   duration      stimulus_name stimulus_block\n",
       "9   2835.861733  3136.112583  300.25085  natural_movie_one              4\n",
       "25  7693.936523  7994.187283  300.25076  natural_movie_one             12"
      ]
     },
     "execution_count": 354,
     "metadata": {},
     "output_type": "execute_result"
    }
   ],
   "source": [
    "stim_epochs = session.get_stimulus_epochs()\n",
    "stim_epochs = stim_epochs[stim_epochs.stimulus_name==\"natural_movie_one\"]\n",
    "stim_pres_ids = session.get_stimulus_table(['natural_movie_one']).index\n",
    "stim_epochs"
   ]
  },
  {
   "cell_type": "markdown",
   "metadata": {},
   "source": [
    "natual movie 1 is 30 seconds per clip repeated 10 times per block, natural movie 2 is 120 second per clip repeated 5 times per block."
   ]
  },
  {
   "cell_type": "code",
   "execution_count": 355,
   "metadata": {},
   "outputs": [
    {
     "data": {
      "text/plain": [
       "(60,)"
      ]
     },
     "execution_count": 355,
     "metadata": {},
     "output_type": "execute_result"
    }
   ],
   "source": [
    "unit_ids = units[(units.ecephys_structure_acronym==\"VISp\") & (units.specimen_id==filtered_sessions.specimen_id[session_id])].index\n",
    "unit_ids.shape"
   ]
  },
  {
   "cell_type": "code",
   "execution_count": 356,
   "metadata": {},
   "outputs": [],
   "source": [
    "session.presentationwise_spike_counts?"
   ]
  },
  {
   "cell_type": "code",
   "execution_count": 357,
   "metadata": {},
   "outputs": [],
   "source": [
    "times = session.presentationwise_spike_times(stimulus_presentation_ids=stim_pres_ids, # is this right? todo\n",
    "                                             unit_ids=unit_ids)"
   ]
  },
  {
   "cell_type": "code",
   "execution_count": 257,
   "metadata": {},
   "outputs": [
    {
     "data": {
      "text/html": [
       "<div>\n",
       "<style scoped>\n",
       "    .dataframe tbody tr th:only-of-type {\n",
       "        vertical-align: middle;\n",
       "    }\n",
       "\n",
       "    .dataframe tbody tr th {\n",
       "        vertical-align: top;\n",
       "    }\n",
       "\n",
       "    .dataframe thead th {\n",
       "        text-align: right;\n",
       "    }\n",
       "</style>\n",
       "<table border=\"1\" class=\"dataframe\">\n",
       "  <thead>\n",
       "    <tr style=\"text-align: right;\">\n",
       "      <th></th>\n",
       "      <th>stimulus_presentation_id</th>\n",
       "      <th>unit_id</th>\n",
       "      <th>time_since_stimulus_presentation_onset</th>\n",
       "    </tr>\n",
       "    <tr>\n",
       "      <th>spike_time</th>\n",
       "      <th></th>\n",
       "      <th></th>\n",
       "      <th></th>\n",
       "    </tr>\n",
       "  </thead>\n",
       "  <tbody>\n",
       "    <tr>\n",
       "      <th>2835.864302</th>\n",
       "      <td>22000</td>\n",
       "      <td>950930985</td>\n",
       "      <td>0.002569</td>\n",
       "    </tr>\n",
       "    <tr>\n",
       "      <th>2835.872035</th>\n",
       "      <td>22000</td>\n",
       "      <td>950930407</td>\n",
       "      <td>0.010302</td>\n",
       "    </tr>\n",
       "    <tr>\n",
       "      <th>2835.872502</th>\n",
       "      <td>22000</td>\n",
       "      <td>950930964</td>\n",
       "      <td>0.010769</td>\n",
       "    </tr>\n",
       "    <tr>\n",
       "      <th>2835.880435</th>\n",
       "      <td>22000</td>\n",
       "      <td>950931517</td>\n",
       "      <td>0.018702</td>\n",
       "    </tr>\n",
       "    <tr>\n",
       "      <th>2835.881935</th>\n",
       "      <td>22000</td>\n",
       "      <td>950931254</td>\n",
       "      <td>0.020202</td>\n",
       "    </tr>\n",
       "    <tr>\n",
       "      <th>...</th>\n",
       "      <td>...</td>\n",
       "      <td>...</td>\n",
       "      <td>...</td>\n",
       "    </tr>\n",
       "    <tr>\n",
       "      <th>7994.181869</th>\n",
       "      <td>66115</td>\n",
       "      <td>950932563</td>\n",
       "      <td>0.027946</td>\n",
       "    </tr>\n",
       "    <tr>\n",
       "      <th>7994.183102</th>\n",
       "      <td>66115</td>\n",
       "      <td>950933732</td>\n",
       "      <td>0.029180</td>\n",
       "    </tr>\n",
       "    <tr>\n",
       "      <th>7994.183636</th>\n",
       "      <td>66115</td>\n",
       "      <td>950932102</td>\n",
       "      <td>0.029713</td>\n",
       "    </tr>\n",
       "    <tr>\n",
       "      <th>7994.186802</th>\n",
       "      <td>66115</td>\n",
       "      <td>950932445</td>\n",
       "      <td>0.032880</td>\n",
       "    </tr>\n",
       "    <tr>\n",
       "      <th>7994.186869</th>\n",
       "      <td>66115</td>\n",
       "      <td>950930407</td>\n",
       "      <td>0.032946</td>\n",
       "    </tr>\n",
       "  </tbody>\n",
       "</table>\n",
       "<p>300625 rows × 3 columns</p>\n",
       "</div>"
      ],
      "text/plain": [
       "             stimulus_presentation_id    unit_id  \\\n",
       "spike_time                                         \n",
       "2835.864302                     22000  950930985   \n",
       "2835.872035                     22000  950930407   \n",
       "2835.872502                     22000  950930964   \n",
       "2835.880435                     22000  950931517   \n",
       "2835.881935                     22000  950931254   \n",
       "...                               ...        ...   \n",
       "7994.181869                     66115  950932563   \n",
       "7994.183102                     66115  950933732   \n",
       "7994.183636                     66115  950932102   \n",
       "7994.186802                     66115  950932445   \n",
       "7994.186869                     66115  950930407   \n",
       "\n",
       "             time_since_stimulus_presentation_onset  \n",
       "spike_time                                           \n",
       "2835.864302                                0.002569  \n",
       "2835.872035                                0.010302  \n",
       "2835.872502                                0.010769  \n",
       "2835.880435                                0.018702  \n",
       "2835.881935                                0.020202  \n",
       "...                                             ...  \n",
       "7994.181869                                0.027946  \n",
       "7994.183102                                0.029180  \n",
       "7994.183636                                0.029713  \n",
       "7994.186802                                0.032880  \n",
       "7994.186869                                0.032946  \n",
       "\n",
       "[300625 rows x 3 columns]"
      ]
     },
     "execution_count": 257,
     "metadata": {},
     "output_type": "execute_result"
    }
   ],
   "source": [
    "times"
   ]
  },
  {
   "cell_type": "code",
   "execution_count": 358,
   "metadata": {},
   "outputs": [],
   "source": [
    "num_bins = 200\n",
    "stim_length = 30  # seconds for natural movie one\n",
    "stim_range = np.array([0, stim_length])\n",
    "trials = np.zeros((20, num_bins, len(unit_ids)))  # stimulus was presented 20 times\n",
    "bin_edges = np.linspace(0, stim_length, num_bins + 1)\n",
    "bin_centers = (bin_edges[1:] + bin_edges[:-1]) / 2\n",
    "bin_width = bin_edges[1] - bin_edges[0]\n",
    "\n",
    "for j, unit_id in enumerate(unit_ids):\n",
    "    # 1st block where nat 1 is shown, it is shown 10 times in each block\n",
    "    presentations1 = stim_epochs.iloc[0].start_time + np.linspace(0, stim_epochs.iloc[0].duration, 10)\n",
    "    # 2nd block\n",
    "    presentations2 = stim_epochs.iloc[1].start_time + np.linspace(0, stim_epochs.iloc[1].duration, 10)\n",
    "    presentations = np.concatenate([presentations1, presentations2])\n",
    "    for i, start in enumerate(presentations):\n",
    "        times_ij = times[(times.unit_id==unit_id) & (start < times.index) & (times.index < (start + stim_length))].index\n",
    "        unit_counts, _ = np.histogram(times_ij, num_bins, range=start + stim_range)\n",
    "        trials[i, :, j] = unit_counts"
   ]
  },
  {
   "cell_type": "code",
   "execution_count": 359,
   "metadata": {},
   "outputs": [
    {
     "data": {
      "text/plain": [
       "array([[[1., 0., 0., ..., 0., 0., 0.],\n",
       "        [1., 0., 1., ..., 1., 0., 0.],\n",
       "        [7., 0., 2., ..., 0., 0., 0.],\n",
       "        ...,\n",
       "        [0., 0., 0., ..., 0., 0., 0.],\n",
       "        [1., 0., 1., ..., 0., 0., 0.],\n",
       "        [2., 0., 1., ..., 0., 0., 0.]],\n",
       "\n",
       "       [[4., 0., 0., ..., 0., 0., 0.],\n",
       "        [2., 0., 2., ..., 0., 0., 0.],\n",
       "        [4., 0., 2., ..., 1., 0., 0.],\n",
       "        ...,\n",
       "        [6., 0., 0., ..., 1., 1., 1.],\n",
       "        [1., 0., 0., ..., 6., 0., 0.],\n",
       "        [1., 0., 0., ..., 5., 0., 0.]],\n",
       "\n",
       "       [[5., 0., 0., ..., 0., 0., 0.],\n",
       "        [7., 0., 1., ..., 0., 1., 0.],\n",
       "        [2., 0., 3., ..., 0., 0., 0.],\n",
       "        ...,\n",
       "        [0., 0., 1., ..., 0., 0., 0.],\n",
       "        [0., 0., 0., ..., 0., 0., 0.],\n",
       "        [0., 0., 2., ..., 0., 0., 0.]],\n",
       "\n",
       "       ...,\n",
       "\n",
       "       [[2., 3., 0., ..., 0., 0., 0.],\n",
       "        [3., 2., 0., ..., 0., 0., 0.],\n",
       "        [2., 1., 1., ..., 0., 0., 0.],\n",
       "        ...,\n",
       "        [1., 2., 0., ..., 0., 0., 0.],\n",
       "        [1., 1., 0., ..., 0., 0., 0.],\n",
       "        [1., 4., 0., ..., 0., 0., 0.]],\n",
       "\n",
       "       [[0., 2., 1., ..., 0., 0., 0.],\n",
       "        [0., 2., 0., ..., 0., 0., 0.],\n",
       "        [2., 0., 0., ..., 0., 0., 0.],\n",
       "        ...,\n",
       "        [0., 0., 0., ..., 0., 2., 0.],\n",
       "        [0., 0., 0., ..., 0., 0., 0.],\n",
       "        [1., 0., 0., ..., 1., 0., 0.]],\n",
       "\n",
       "       [[0., 0., 0., ..., 0., 0., 0.],\n",
       "        [0., 0., 0., ..., 0., 0., 0.],\n",
       "        [0., 0., 0., ..., 0., 0., 0.],\n",
       "        ...,\n",
       "        [0., 0., 0., ..., 0., 0., 0.],\n",
       "        [0., 0., 0., ..., 0., 0., 0.],\n",
       "        [0., 0., 0., ..., 0., 0., 0.]]])"
      ]
     },
     "execution_count": 359,
     "metadata": {},
     "output_type": "execute_result"
    }
   ],
   "source": [
    "trials"
   ]
  },
  {
   "cell_type": "code",
   "execution_count": 360,
   "metadata": {},
   "outputs": [
    {
     "data": {
      "text/plain": [
       "(20, 200, 60)"
      ]
     },
     "execution_count": 360,
     "metadata": {},
     "output_type": "execute_result"
    }
   ],
   "source": [
    "trials.shape"
   ]
  },
  {
   "cell_type": "code",
   "execution_count": 361,
   "metadata": {},
   "outputs": [
    {
     "data": {
      "text/plain": [
       "array([[1.85, 1.5 , 0.6 , ..., 0.2 , 0.  , 0.1 ],\n",
       "       [2.65, 1.75, 0.7 , ..., 0.3 , 0.1 , 0.  ],\n",
       "       [2.05, 1.45, 0.95, ..., 0.25, 0.  , 0.  ],\n",
       "       ...,\n",
       "       [1.75, 1.4 , 0.2 , ..., 0.15, 0.4 , 0.05],\n",
       "       [0.8 , 0.8 , 0.25, ..., 0.45, 0.15, 0.  ],\n",
       "       [1.65, 1.15, 0.35, ..., 0.3 , 0.15, 0.05]])"
      ]
     },
     "execution_count": 361,
     "metadata": {},
     "output_type": "execute_result"
    }
   ],
   "source": [
    "avgCounts = np.mean(trials, axis=0)\n",
    "avgCounts"
   ]
  },
  {
   "cell_type": "code",
   "execution_count": 362,
   "metadata": {},
   "outputs": [
    {
     "data": {
      "text/plain": [
       "<BarContainer object of 200 artists>"
      ]
     },
     "execution_count": 362,
     "metadata": {},
     "output_type": "execute_result"
    },
    {
     "data": {
      "image/png": "[encoded data removed]",
      "text/plain": [
       "<Figure size 432x288 with 1 Axes>"
      ]
     },
     "metadata": {
      "needs_background": "light"
     },
     "output_type": "display_data"
    }
   ],
   "source": [
    "%matplotlib inline\n",
    "bin_centers = (bin_edges[1:] + bin_edges[:-1]) / 2\n",
    "bin_width = bin_edges[1] - bin_edges[0]\n",
    "plt.bar(bin_centers, trials[0, :, 2], width=bin_width)"
   ]
  },
  {
   "cell_type": "markdown",
   "metadata": {},
   "source": [
    "- classify gradients\n",
    "- singular value spectrum\n",
    "- mutual information (define response as a specific classification) (if time)\n",
    "- use the 4 different videos (nat 1, nat 3 (1), nat 3 (2), nat 3 (3)) and try to cluster the responses in PCA space"
   ]
  },
  {
   "cell_type": "code",
   "execution_count": 363,
   "metadata": {},
   "outputs": [
    {
     "data": {
      "text/plain": [
       "<matplotlib.colorbar.Colorbar at 0x1da63e85a88>"
      ]
     },
     "execution_count": 363,
     "metadata": {},
     "output_type": "execute_result"
    },
    {
     "data": {
      "image/png": "[encoded data removed]",
      "text/plain": [
       "<Figure size 900x600 with 2 Axes>"
      ]
     },
     "metadata": {
      "needs_background": "light"
     },
     "output_type": "display_data"
    }
   ],
   "source": [
    "plt.figure(dpi=150)\n",
    "plt.ylabel(\"unit (neuron)\")\n",
    "plt.xlabel(\"time\")\n",
    "plt.imshow(np.log(trials[1].T + 1), aspect=5)\n",
    "plt.title(\"trial 1 spike counts\")\n",
    "plt.colorbar(label=\"log spike counts\")"
   ]
  },
  {
   "cell_type": "code",
   "execution_count": 364,
   "metadata": {},
   "outputs": [
    {
     "name": "stdout",
     "output_type": "stream",
     "text": [
      "(200, 60)\n"
     ]
    }
   ],
   "source": [
    "X = avgCounts\n",
    "print(X.shape)\n",
    "Xc = X - np.mean(X, axis=0, keepdims=True)"
   ]
  },
  {
   "cell_type": "code",
   "execution_count": 365,
   "metadata": {},
   "outputs": [
    {
     "data": {
      "text/plain": [
       "(60, 60)"
      ]
     },
     "execution_count": 365,
     "metadata": {},
     "output_type": "execute_result"
    }
   ],
   "source": [
    "cov = np.transpose(Xc) @ Xc / Xc.shape[0]\n",
    "cov.shape"
   ]
  },
  {
   "cell_type": "code",
   "execution_count": 366,
   "metadata": {},
   "outputs": [],
   "source": [
    "U, S, Vh = np.linalg.svd(Xc)"
   ]
  },
  {
   "cell_type": "code",
   "execution_count": 367,
   "metadata": {},
   "outputs": [],
   "source": [
    "Y = np.transpose(Vh @ np.transpose(Xc))"
   ]
  },
  {
   "cell_type": "code",
   "execution_count": 368,
   "metadata": {},
   "outputs": [],
   "source": [
    "covY = np.transpose(Y) @ Y / Y.shape[0]\n",
    "varY = S**2 / Y.shape[0]"
   ]
  },
  {
   "cell_type": "code",
   "execution_count": 369,
   "metadata": {},
   "outputs": [
    {
     "data": {
      "image/png": "[encoded data removed]",
      "text/plain": [
       "<Figure size 432x288 with 2 Axes>"
      ]
     },
     "metadata": {
      "needs_background": "light"
     },
     "output_type": "display_data"
    }
   ],
   "source": [
    "plt.figure()\n",
    "plt.imshow(covY)\n",
    "plt.colorbar()\n",
    "plt.show()"
   ]
  },
  {
   "cell_type": "code",
   "execution_count": 370,
   "metadata": {},
   "outputs": [
    {
     "data": {
      "text/plain": [
       "<matplotlib.collections.PathCollection at 0x1da63f4d588>"
      ]
     },
     "execution_count": 370,
     "metadata": {},
     "output_type": "execute_result"
    },
    {
     "data": {
      "image/png": "[encoded data removed]",
      "text/plain": [
       "<Figure size 432x288 with 1 Axes>"
      ]
     },
     "metadata": {
      "needs_background": "light"
     },
     "output_type": "display_data"
    }
   ],
   "source": [
    "plt.figure()\n",
    "plt.scatter(np.arange(len(S)), varY)"
   ]
  },
  {
   "cell_type": "code",
   "execution_count": 371,
   "metadata": {},
   "outputs": [
    {
     "name": "stdout",
     "output_type": "stream",
     "text": [
      "0.03225074478369603 1.9350446870217617\n"
     ]
    }
   ],
   "source": [
    "d = sum(S**2) / sum(S)**2\n",
    "print(d, d * len(S))"
   ]
  },
  {
   "cell_type": "code",
   "execution_count": 372,
   "metadata": {},
   "outputs": [
    {
     "data": {
      "text/plain": [
       "<BarContainer object of 200 artists>"
      ]
     },
     "execution_count": 372,
     "metadata": {},
     "output_type": "execute_result"
    },
    {
     "data": {
      "image/png": "[encoded data removed]",
      "text/plain": [
       "<Figure size 432x288 with 1 Axes>"
      ]
     },
     "metadata": {
      "needs_background": "light"
     },
     "output_type": "display_data"
    }
   ],
   "source": [
    "plt.figure()\n",
    "plt.bar(bin_centers, Y[:, 0], width=bin_width)  # principle response"
   ]
  },
  {
   "cell_type": "code",
   "execution_count": null,
   "metadata": {},
   "outputs": [],
   "source": []
  },
  {
   "cell_type": "code",
   "execution_count": 346,
   "metadata": {},
   "outputs": [],
   "source": [
    "# # by the nature of the SVD, the first 3 rows of \\Sigma V^T tell you how the images are projected onto the princple component\n",
    "# proj_responses = np.diag(S[:3]) @ Vh[:3]\n",
    "# print(proj_responses.shape)\n",
    "\n",
    "\n",
    "# %matplotlib notebook\n",
    "# fig = plt.figure(dpi=120)\n",
    "# ax = fig.gca(projection='3d')\n",
    "# plt.title(\"neurons' responses projected onto PCA space\")\n",
    "# ax.scatter(proj_responses[0, :], proj_responses[1, :], proj_responses[2, :])\n",
    "# ax.view_init(elev=15, azim=50)\n",
    "# plt.xlabel(\"1st principle comp.\")\n",
    "# plt.ylabel(\"2nd principle comp.\")\n",
    "# ax.set_zlabel(\"3rd principle comp.\")\n",
    "# plt.show()"
   ]
  },
  {
   "cell_type": "markdown",
   "metadata": {},
   "source": [
    "# Static Grating Classification"
   ]
  },
  {
   "cell_type": "code",
   "execution_count": 352,
   "metadata": {},
   "outputs": [
    {
     "data": {
      "text/html": [
       "<div>\n",
       "<style scoped>\n",
       "    .dataframe tbody tr th:only-of-type {\n",
       "        vertical-align: middle;\n",
       "    }\n",
       "\n",
       "    .dataframe tbody tr th {\n",
       "        vertical-align: top;\n",
       "    }\n",
       "\n",
       "    .dataframe thead th {\n",
       "        text-align: right;\n",
       "    }\n",
       "</style>\n",
       "<table border=\"1\" class=\"dataframe\">\n",
       "  <thead>\n",
       "    <tr style=\"text-align: right;\">\n",
       "      <th></th>\n",
       "      <th>start_time</th>\n",
       "      <th>stop_time</th>\n",
       "      <th>duration</th>\n",
       "      <th>stimulus_name</th>\n",
       "      <th>stimulus_block</th>\n",
       "    </tr>\n",
       "  </thead>\n",
       "  <tbody>\n",
       "    <tr>\n",
       "      <th>17</th>\n",
       "      <td>5381.988653</td>\n",
       "      <td>5862.389913</td>\n",
       "      <td>480.40126</td>\n",
       "      <td>static_gratings</td>\n",
       "      <td>8</td>\n",
       "    </tr>\n",
       "    <tr>\n",
       "      <th>23</th>\n",
       "      <td>7183.510123</td>\n",
       "      <td>7663.911423</td>\n",
       "      <td>480.40130</td>\n",
       "      <td>static_gratings</td>\n",
       "      <td>11</td>\n",
       "    </tr>\n",
       "    <tr>\n",
       "      <th>29</th>\n",
       "      <td>8594.688933</td>\n",
       "      <td>9135.140323</td>\n",
       "      <td>540.45139</td>\n",
       "      <td>static_gratings</td>\n",
       "      <td>14</td>\n",
       "    </tr>\n",
       "  </tbody>\n",
       "</table>\n",
       "</div>"
      ],
      "text/plain": [
       "     start_time    stop_time   duration    stimulus_name stimulus_block\n",
       "17  5381.988653  5862.389913  480.40126  static_gratings              8\n",
       "23  7183.510123  7663.911423  480.40130  static_gratings             11\n",
       "29  8594.688933  9135.140323  540.45139  static_gratings             14"
      ]
     },
     "execution_count": 352,
     "metadata": {},
     "output_type": "execute_result"
    }
   ],
   "source": [
    "stim_epochs = session.get_stimulus_epochs()\n",
    "stim_epochs = stim_epochs[stim_epochs.stimulus_name==\"static_gratings\"]\n",
    "stim_epochs"
   ]
  },
  {
   "cell_type": "code",
   "execution_count": 647,
   "metadata": {},
   "outputs": [],
   "source": [
    "stims = session.get_stimulus_table(['static_gratings'])\n",
    "stims = stims[stims.orientation!='null']"
   ]
  },
  {
   "cell_type": "code",
   "execution_count": 396,
   "metadata": {},
   "outputs": [
    {
     "data": {
      "text/html": [
       "<div>\n",
       "<style scoped>\n",
       "    .dataframe tbody tr th:only-of-type {\n",
       "        vertical-align: middle;\n",
       "    }\n",
       "\n",
       "    .dataframe tbody tr th {\n",
       "        vertical-align: top;\n",
       "    }\n",
       "\n",
       "    .dataframe thead th {\n",
       "        text-align: right;\n",
       "    }\n",
       "</style>\n",
       "<table border=\"1\" class=\"dataframe\">\n",
       "  <thead>\n",
       "    <tr style=\"text-align: right;\">\n",
       "      <th></th>\n",
       "      <th>contrast</th>\n",
       "      <th>orientation</th>\n",
       "      <th>phase</th>\n",
       "      <th>size</th>\n",
       "      <th>spatial_frequency</th>\n",
       "      <th>start_time</th>\n",
       "      <th>stimulus_block</th>\n",
       "      <th>stimulus_name</th>\n",
       "      <th>stop_time</th>\n",
       "      <th>duration</th>\n",
       "      <th>stimulus_condition_id</th>\n",
       "    </tr>\n",
       "    <tr>\n",
       "      <th>stimulus_presentation_id</th>\n",
       "      <th></th>\n",
       "      <th></th>\n",
       "      <th></th>\n",
       "      <th></th>\n",
       "      <th></th>\n",
       "      <th></th>\n",
       "      <th></th>\n",
       "      <th></th>\n",
       "      <th></th>\n",
       "      <th></th>\n",
       "      <th></th>\n",
       "    </tr>\n",
       "  </thead>\n",
       "  <tbody>\n",
       "    <tr>\n",
       "      <th>49437</th>\n",
       "      <td>0.8</td>\n",
       "      <td>60</td>\n",
       "      <td>0.0</td>\n",
       "      <td>[250.0, 250.0]</td>\n",
       "      <td>0.04</td>\n",
       "      <td>5383.239686</td>\n",
       "      <td>8</td>\n",
       "      <td>static_gratings</td>\n",
       "      <td>5383.489905</td>\n",
       "      <td>0.250219</td>\n",
       "      <td>4792</td>\n",
       "    </tr>\n",
       "    <tr>\n",
       "      <th>49443</th>\n",
       "      <td>0.8</td>\n",
       "      <td>30</td>\n",
       "      <td>0.0</td>\n",
       "      <td>[250.0, 250.0]</td>\n",
       "      <td>0.04</td>\n",
       "      <td>5384.740946</td>\n",
       "      <td>8</td>\n",
       "      <td>static_gratings</td>\n",
       "      <td>5384.991147</td>\n",
       "      <td>0.250201</td>\n",
       "      <td>4798</td>\n",
       "    </tr>\n",
       "    <tr>\n",
       "      <th>49448</th>\n",
       "      <td>0.8</td>\n",
       "      <td>90</td>\n",
       "      <td>0.0</td>\n",
       "      <td>[250.0, 250.0]</td>\n",
       "      <td>0.04</td>\n",
       "      <td>5385.991973</td>\n",
       "      <td>8</td>\n",
       "      <td>static_gratings</td>\n",
       "      <td>5386.242184</td>\n",
       "      <td>0.250211</td>\n",
       "      <td>4803</td>\n",
       "    </tr>\n",
       "    <tr>\n",
       "      <th>49456</th>\n",
       "      <td>0.8</td>\n",
       "      <td>30</td>\n",
       "      <td>0.0</td>\n",
       "      <td>[250.0, 250.0]</td>\n",
       "      <td>0.04</td>\n",
       "      <td>5387.993653</td>\n",
       "      <td>8</td>\n",
       "      <td>static_gratings</td>\n",
       "      <td>5388.243862</td>\n",
       "      <td>0.250209</td>\n",
       "      <td>4798</td>\n",
       "    </tr>\n",
       "    <tr>\n",
       "      <th>49460</th>\n",
       "      <td>0.8</td>\n",
       "      <td>30</td>\n",
       "      <td>0.0</td>\n",
       "      <td>[250.0, 250.0]</td>\n",
       "      <td>0.04</td>\n",
       "      <td>5388.994487</td>\n",
       "      <td>8</td>\n",
       "      <td>static_gratings</td>\n",
       "      <td>5389.244699</td>\n",
       "      <td>0.250211</td>\n",
       "      <td>4798</td>\n",
       "    </tr>\n",
       "    <tr>\n",
       "      <th>...</th>\n",
       "      <td>...</td>\n",
       "      <td>...</td>\n",
       "      <td>...</td>\n",
       "      <td>...</td>\n",
       "      <td>...</td>\n",
       "      <td>...</td>\n",
       "      <td>...</td>\n",
       "      <td>...</td>\n",
       "      <td>...</td>\n",
       "      <td>...</td>\n",
       "      <td>...</td>\n",
       "    </tr>\n",
       "    <tr>\n",
       "      <th>70301</th>\n",
       "      <td>0.8</td>\n",
       "      <td>150</td>\n",
       "      <td>0.0</td>\n",
       "      <td>[250.0, 250.0]</td>\n",
       "      <td>0.04</td>\n",
       "      <td>9113.372172</td>\n",
       "      <td>14</td>\n",
       "      <td>static_gratings</td>\n",
       "      <td>9113.622370</td>\n",
       "      <td>0.250199</td>\n",
       "      <td>4838</td>\n",
       "    </tr>\n",
       "    <tr>\n",
       "      <th>70314</th>\n",
       "      <td>0.8</td>\n",
       "      <td>150</td>\n",
       "      <td>0.0</td>\n",
       "      <td>[250.0, 250.0]</td>\n",
       "      <td>0.04</td>\n",
       "      <td>9116.624855</td>\n",
       "      <td>14</td>\n",
       "      <td>static_gratings</td>\n",
       "      <td>9116.875054</td>\n",
       "      <td>0.250199</td>\n",
       "      <td>4838</td>\n",
       "    </tr>\n",
       "    <tr>\n",
       "      <th>70361</th>\n",
       "      <td>0.8</td>\n",
       "      <td>150</td>\n",
       "      <td>0.0</td>\n",
       "      <td>[250.0, 250.0]</td>\n",
       "      <td>0.04</td>\n",
       "      <td>9128.384686</td>\n",
       "      <td>14</td>\n",
       "      <td>static_gratings</td>\n",
       "      <td>9128.634885</td>\n",
       "      <td>0.250199</td>\n",
       "      <td>4838</td>\n",
       "    </tr>\n",
       "    <tr>\n",
       "      <th>70364</th>\n",
       "      <td>0.8</td>\n",
       "      <td>150</td>\n",
       "      <td>0.0</td>\n",
       "      <td>[250.0, 250.0]</td>\n",
       "      <td>0.04</td>\n",
       "      <td>9129.135283</td>\n",
       "      <td>14</td>\n",
       "      <td>static_gratings</td>\n",
       "      <td>9129.385504</td>\n",
       "      <td>0.250221</td>\n",
       "      <td>4838</td>\n",
       "    </tr>\n",
       "    <tr>\n",
       "      <th>70366</th>\n",
       "      <td>0.8</td>\n",
       "      <td>90</td>\n",
       "      <td>0.0</td>\n",
       "      <td>[250.0, 250.0]</td>\n",
       "      <td>0.04</td>\n",
       "      <td>9129.635725</td>\n",
       "      <td>14</td>\n",
       "      <td>static_gratings</td>\n",
       "      <td>9129.885946</td>\n",
       "      <td>0.250221</td>\n",
       "      <td>4803</td>\n",
       "    </tr>\n",
       "  </tbody>\n",
       "</table>\n",
       "<p>294 rows × 11 columns</p>\n",
       "</div>"
      ],
      "text/plain": [
       "                         contrast orientation phase            size  \\\n",
       "stimulus_presentation_id                                              \n",
       "49437                         0.8          60   0.0  [250.0, 250.0]   \n",
       "49443                         0.8          30   0.0  [250.0, 250.0]   \n",
       "49448                         0.8          90   0.0  [250.0, 250.0]   \n",
       "49456                         0.8          30   0.0  [250.0, 250.0]   \n",
       "49460                         0.8          30   0.0  [250.0, 250.0]   \n",
       "...                           ...         ...   ...             ...   \n",
       "70301                         0.8         150   0.0  [250.0, 250.0]   \n",
       "70314                         0.8         150   0.0  [250.0, 250.0]   \n",
       "70361                         0.8         150   0.0  [250.0, 250.0]   \n",
       "70364                         0.8         150   0.0  [250.0, 250.0]   \n",
       "70366                         0.8          90   0.0  [250.0, 250.0]   \n",
       "\n",
       "                         spatial_frequency   start_time stimulus_block  \\\n",
       "stimulus_presentation_id                                                 \n",
       "49437                                 0.04  5383.239686              8   \n",
       "49443                                 0.04  5384.740946              8   \n",
       "49448                                 0.04  5385.991973              8   \n",
       "49456                                 0.04  5387.993653              8   \n",
       "49460                                 0.04  5388.994487              8   \n",
       "...                                    ...          ...            ...   \n",
       "70301                                 0.04  9113.372172             14   \n",
       "70314                                 0.04  9116.624855             14   \n",
       "70361                                 0.04  9128.384686             14   \n",
       "70364                                 0.04  9129.135283             14   \n",
       "70366                                 0.04  9129.635725             14   \n",
       "\n",
       "                            stimulus_name    stop_time  duration  \\\n",
       "stimulus_presentation_id                                           \n",
       "49437                     static_gratings  5383.489905  0.250219   \n",
       "49443                     static_gratings  5384.991147  0.250201   \n",
       "49448                     static_gratings  5386.242184  0.250211   \n",
       "49456                     static_gratings  5388.243862  0.250209   \n",
       "49460                     static_gratings  5389.244699  0.250211   \n",
       "...                                   ...          ...       ...   \n",
       "70301                     static_gratings  9113.622370  0.250199   \n",
       "70314                     static_gratings  9116.875054  0.250199   \n",
       "70361                     static_gratings  9128.634885  0.250199   \n",
       "70364                     static_gratings  9129.385504  0.250221   \n",
       "70366                     static_gratings  9129.885946  0.250221   \n",
       "\n",
       "                          stimulus_condition_id  \n",
       "stimulus_presentation_id                         \n",
       "49437                                      4792  \n",
       "49443                                      4798  \n",
       "49448                                      4803  \n",
       "49456                                      4798  \n",
       "49460                                      4798  \n",
       "...                                         ...  \n",
       "70301                                      4838  \n",
       "70314                                      4838  \n",
       "70361                                      4838  \n",
       "70364                                      4838  \n",
       "70366                                      4803  \n",
       "\n",
       "[294 rows x 11 columns]"
      ]
     },
     "execution_count": 396,
     "metadata": {},
     "output_type": "execute_result"
    }
   ],
   "source": [
    "filtered_stims = stims[(stims.phase==\"0.0\") & (stims.spatial_frequency==\"0.04\")]\n",
    "filtered_stims"
   ]
  },
  {
   "cell_type": "code",
   "execution_count": 397,
   "metadata": {},
   "outputs": [
    {
     "data": {
      "text/plain": [
       "(294, 11)"
      ]
     },
     "execution_count": 397,
     "metadata": {},
     "output_type": "execute_result"
    }
   ],
   "source": [
    "filtered_stims.shape"
   ]
  },
  {
   "cell_type": "code",
   "execution_count": 404,
   "metadata": {},
   "outputs": [],
   "source": [
    "num_bins = 10\n",
    "stim_duration = filtered_stims.duration.min()  # minimum so that none of the recording periods are overlapping\n",
    "bin_edges = np.linspace(0, stim_duration, num_bins + 1)\n",
    "counts = session.presentationwise_spike_counts(bin_edges=bin_edges,\n",
    "                                               stimulus_presentation_ids=filtered_stims.index,\n",
    "                                               unit_ids=unit_ids)"
   ]
  },
  {
   "cell_type": "code",
   "execution_count": 470,
   "metadata": {},
   "outputs": [
    {
     "data": {
      "text/plain": [
       "array([  0,  30,  60,  90, 120, 150])"
      ]
     },
     "execution_count": 470,
     "metadata": {},
     "output_type": "execute_result"
    }
   ],
   "source": [
    "oris = np.unique(filtered_stims.orientation).astype(int)\n",
    "oris"
   ]
  },
  {
   "cell_type": "code",
   "execution_count": 609,
   "metadata": {},
   "outputs": [],
   "source": [
    "avg_resp = np.mean(counts, axis=0)"
   ]
  },
  {
   "cell_type": "code",
   "execution_count": 635,
   "metadata": {},
   "outputs": [
    {
     "name": "stderr",
     "output_type": "stream",
     "text": [
      "C:\\Users\\ATMal\\AppData\\Local\\Programs\\Python\\Python37\\lib\\site-packages\\ipykernel_launcher.py:12: UserWarning: This figure includes Axes that are not compatible with tight_layout, so results might be incorrect.\n",
      "  if sys.path[0] == '':\n"
     ]
    },
    {
     "data": {
      "image/png": "[encoded data removed]",
      "text/plain": [
       "<Figure size 1000x800 with 7 Axes>"
      ]
     },
     "metadata": {
      "needs_background": "light"
     },
     "output_type": "display_data"
    }
   ],
   "source": [
    "fig, ax = plt.subplots(2, 3, figsize=(10, 8), dpi=100)\n",
    "fig.suptitle(\"mean-subtracted response to static gratings\")\n",
    "for i, ori in enumerate(oris):\n",
    "    plt.subplot(2, 3, i+1)\n",
    "    idxs = filtered_stims[filtered_stims.orientation==ori].index\n",
    "    plt.ylabel(\"unit\")\n",
    "    plt.xlabel(\"time\")\n",
    "    im = plt.imshow((np.mean(counts.loc[idxs], axis=0).T - avg_resp), aspect=0.2, vmin=-0.5, vmax=1.1)\n",
    "    plt.title(f\"{ori}$^\\circ$ grating\")\n",
    "cbar_ax = fig.add_axes([1.0, 0.15, 0.05, 0.7])\n",
    "fig.colorbar(mappable=im, label=f\"trial-averaged number of spikes per {int(1000 * stim_duration / num_bins)} ms\", cax=cbar_ax)\n",
    "plt.tight_layout()\n",
    "plt.show()"
   ]
  },
  {
   "cell_type": "markdown",
   "metadata": {},
   "source": [
    "## Classification of 294 gratings with constant phase and spatial freq\n",
    "- TODO: do this in PCA space"
   ]
  },
  {
   "cell_type": "code",
   "execution_count": 464,
   "metadata": {},
   "outputs": [],
   "source": [
    "from sklearn import svm\n",
    "from sklearn import metrics"
   ]
  },
  {
   "cell_type": "code",
   "execution_count": 495,
   "metadata": {},
   "outputs": [],
   "source": [
    "np.random.seed(10)"
   ]
  },
  {
   "cell_type": "code",
   "execution_count": 496,
   "metadata": {},
   "outputs": [],
   "source": [
    "X = np.reshape(np.array(counts), (counts.shape[0]), num_bins * len(unit_ids)))\n",
    "labels = np.array(list(filtered_stims.orientation))\n",
    "\n",
    "# train test split\n",
    "train_frac = 0.7\n",
    "train_idxs = np.array([], dtype=int)\n",
    "test_idxs = np.array([], dtype=int)\n",
    "for label in np.unique(labels):\n",
    "    matches = np.nonzero(labels == label)[0]\n",
    "    np.random.shuffle(matches)\n",
    "    train_idxs = np.concatenate([train_idxs, matches[:int(train_frac * len(matches))]])\n",
    "    test_idxs = np.concatenate([test_idxs, matches[int(train_frac * len(matches)):]])"
   ]
  },
  {
   "cell_type": "code",
   "execution_count": 583,
   "metadata": {},
   "outputs": [
    {
     "data": {
      "text/plain": [
       "SVC()"
      ]
     },
     "execution_count": 583,
     "metadata": {},
     "output_type": "execute_result"
    }
   ],
   "source": [
    "clf = svm.SVC()\n",
    "clf.fit(X[train_idxs], labels[train_idxs])"
   ]
  },
  {
   "cell_type": "code",
   "execution_count": 584,
   "metadata": {},
   "outputs": [
    {
     "data": {
      "text/plain": [
       "0.10784313725490197"
      ]
     },
     "execution_count": 584,
     "metadata": {},
     "output_type": "execute_result"
    }
   ],
   "source": [
    "fit = clf.predict(X[train_idxs])\n",
    "train_err = np.sum(fit != labels[train_idxs]) / len(fit)\n",
    "train_err"
   ]
  },
  {
   "cell_type": "code",
   "execution_count": 585,
   "metadata": {},
   "outputs": [
    {
     "data": {
      "text/plain": [
       "0.3111111111111111"
      ]
     },
     "execution_count": 585,
     "metadata": {},
     "output_type": "execute_result"
    }
   ],
   "source": [
    "pre = clf.predict(X[test_idxs])\n",
    "err = np.sum(pre != labels[test_idxs]) / len(pre)\n",
    "err"
   ]
  },
  {
   "cell_type": "code",
   "execution_count": 586,
   "metadata": {},
   "outputs": [
    {
     "data": {
      "text/plain": [
       "<matplotlib.colorbar.Colorbar at 0x1db1b110948>"
      ]
     },
     "execution_count": 586,
     "metadata": {},
     "output_type": "execute_result"
    },
    {
     "data": {
      "image/png": "[encoded data removed]",
      "text/plain": [
       "<Figure size 432x288 with 2 Axes>"
      ]
     },
     "metadata": {
      "needs_background": "light"
     },
     "output_type": "display_data"
    }
   ],
   "source": [
    "conf = metrics.confusion_matrix(labels[test_idxs], pre, labels=oris)\n",
    "plt.imshow(conf)\n",
    "ax = plt.gca()\n",
    "ax.xaxis.tick_top()\n",
    "ax.set_xticks(np.arange(6))\n",
    "ax.set_yticks(np.arange(6))\n",
    "ax.set_xticklabels(oris)\n",
    "ax.set_yticklabels(oris)\n",
    "plt.colorbar()"
   ]
  },
  {
   "cell_type": "code",
   "execution_count": 587,
   "metadata": {},
   "outputs": [
    {
     "data": {
      "text/plain": [
       "array([  0.,   0.,   0.,   0.,   0.,   0.,   0.,   0.,   0.,   0.,   0.,\n",
       "         0.,   0.,   0.,   0.,  30.,  30.,  30.,  30.,  30.,  30.,  30.,\n",
       "        30.,  30.,  30.,  30.,  30.,  30.,  30.,  30.,  60.,  60.,  60.,\n",
       "        60.,  60.,  60.,  60.,  60.,  60.,  60.,  60.,  60.,  60.,  60.,\n",
       "        60.,  90.,  90.,  90.,  90.,  90.,  90.,  90.,  90.,  90.,  90.,\n",
       "        90.,  90.,  90.,  90.,  90., 120., 120., 120., 120., 120., 120.,\n",
       "       120., 120., 120., 120., 120., 120., 120., 120., 120., 150., 150.,\n",
       "       150., 150., 150., 150., 150., 150., 150., 150., 150., 150., 150.,\n",
       "       150., 150.])"
      ]
     },
     "execution_count": 587,
     "metadata": {},
     "output_type": "execute_result"
    }
   ],
   "source": [
    "labels[test_idxs]"
   ]
  },
  {
   "cell_type": "markdown",
   "metadata": {},
   "source": [
    "# Classification of all 6000 gratings"
   ]
  },
  {
   "cell_type": "code",
   "execution_count": 648,
   "metadata": {},
   "outputs": [],
   "source": [
    "num_bins = 10\n",
    "stim_duration = stims.duration.min()  # minimum so that none of the recording periods are overlapping\n",
    "bin_edges = np.linspace(0, stim_duration, num_bins + 1)\n",
    "counts = session.presentationwise_spike_counts(bin_edges=bin_edges,\n",
    "                                               stimulus_presentation_ids=stims.index,\n",
    "                                               unit_ids=unit_ids)"
   ]
  },
  {
   "cell_type": "code",
   "execution_count": 649,
   "metadata": {},
   "outputs": [],
   "source": [
    "X = np.reshape(np.array(counts), (counts.shape[0], num_bins * len(unit_ids)))\n",
    "labels = np.array(list(stims.orientation))\n",
    "\n",
    "# train test split\n",
    "train_frac = 0.7\n",
    "train_idxs = np.array([], dtype=int)\n",
    "test_idxs = np.array([], dtype=int)\n",
    "for label in np.unique(labels):\n",
    "    matches = np.nonzero(labels == label)[0]\n",
    "    np.random.shuffle(matches)\n",
    "    train_idxs = np.concatenate([train_idxs, matches[:int(train_frac * len(matches))]])\n",
    "    test_idxs = np.concatenate([test_idxs, matches[int(train_frac * len(matches)):]])"
   ]
  },
  {
   "cell_type": "code",
   "execution_count": 658,
   "metadata": {},
   "outputs": [
    {
     "data": {
      "text/plain": [
       "SVC()"
      ]
     },
     "execution_count": 658,
     "metadata": {},
     "output_type": "execute_result"
    }
   ],
   "source": [
    "clf = svm.SVC(kernel=\"rbf\")\n",
    "clf.fit(X[train_idxs], labels[train_idxs])"
   ]
  },
  {
   "cell_type": "code",
   "execution_count": 659,
   "metadata": {},
   "outputs": [
    {
     "data": {
      "text/plain": [
       "0.16847024102311856"
      ]
     },
     "execution_count": 659,
     "metadata": {},
     "output_type": "execute_result"
    }
   ],
   "source": [
    "fit = clf.predict(X[train_idxs])\n",
    "train_err = np.sum(fit != labels[train_idxs]) / len(fit)\n",
    "train_err"
   ]
  },
  {
   "cell_type": "code",
   "execution_count": 660,
   "metadata": {},
   "outputs": [
    {
     "data": {
      "text/plain": [
       "0.4796561604584527"
      ]
     },
     "execution_count": 660,
     "metadata": {},
     "output_type": "execute_result"
    }
   ],
   "source": [
    "pre = clf.predict(X[test_idxs])\n",
    "err = np.sum(pre != labels[test_idxs]) / len(pre)\n",
    "err"
   ]
  },
  {
   "cell_type": "code",
   "execution_count": 661,
   "metadata": {},
   "outputs": [
    {
     "data": {
      "text/plain": [
       "<matplotlib.colorbar.Colorbar at 0x1db2966eb08>"
      ]
     },
     "execution_count": 661,
     "metadata": {},
     "output_type": "execute_result"
    },
    {
     "data": {
      "image/png": "[encoded data removed]",
      "text/plain": [
       "<Figure size 432x288 with 2 Axes>"
      ]
     },
     "metadata": {
      "needs_background": "light"
     },
     "output_type": "display_data"
    }
   ],
   "source": [
    "conf = metrics.confusion_matrix(labels[test_idxs], pre, labels=oris)\n",
    "plt.imshow(conf)\n",
    "ax = plt.gca()\n",
    "ax.xaxis.tick_top()\n",
    "ax.set_xticks(np.arange(6))\n",
    "ax.set_yticks(np.arange(6))\n",
    "ax.set_xticklabels(oris)\n",
    "ax.set_yticklabels(oris)\n",
    "plt.colorbar()"
   ]
  },
  {
   "cell_type": "code",
   "execution_count": 644,
   "metadata": {},
   "outputs": [
    {
     "data": {
      "text/plain": [
       "array(['120.0', '150.0', '60.0', ..., '60.0', '60.0', '60.0'],\n",
       "      dtype='<U32')"
      ]
     },
     "execution_count": 644,
     "metadata": {},
     "output_type": "execute_result"
    }
   ],
   "source": [
    "labels"
   ]
  },
  {
   "cell_type": "code",
   "execution_count": null,
   "metadata": {},
   "outputs": [],
   "source": []
  }
 ],
 "metadata": {
  "kernelspec": {
   "display_name": "Python 3",
   "language": "python",
   "name": "python3"
  },
  "language_info": {
   "codemirror_mode": {
    "name": "ipython",
    "version": 3
   },
   "file_extension": ".py",
   "mimetype": "text/x-python",
   "name": "python",
   "nbconvert_exporter": "python",
   "pygments_lexer": "ipython3",
   "version": "3.7.9"
  }
 },
 "nbformat": 4,
 "nbformat_minor": 2
}
